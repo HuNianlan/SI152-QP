{
 "cells": [
  {
   "cell_type": "code",
   "execution_count": 238,
   "metadata": {},
   "outputs": [],
   "source": [
    "import numpy as np\n",
    "from scipy import sparse\n",
    "from typing import Tuple\n",
    "\n",
    "def standard_constraints(G, h, A, b)-> Tuple[np.ndarray[np.float64], np.ndarray[np.float64], np.ndarray[np.float64]]:\n",
    "    \"\"\"\n",
    "    Convert constraints Gx <= h and Ax = b into a unified form l <= Ax <= u.\n",
    "\n",
    "    Parameters:\n",
    "        G (ndarray): Coefficient matrix for inequality constraints.\n",
    "        h (ndarray): Upper bound for inequality constraints.\n",
    "        A (ndarray): Coefficient matrix for equality constraints.\n",
    "        b (ndarray): Right-hand side for equality constraints.\n",
    "\n",
    "    Returns:\n",
    "        A_osqp (csr_matrix): Combined constraint matrix.\n",
    "        l_osqp (ndarray): Lower bounds.\n",
    "        u_osqp (ndarray): Upper bounds.\n",
    "    \"\"\"\n",
    "    # Inequality constraints: Gx <= h\n",
    "    if G is not None and h is not None:\n",
    "        A_ineq = G\n",
    "        l_ineq = np.full(h.shape, -np.inf)\n",
    "        u_ineq = h\n",
    "    else:\n",
    "        A_ineq, l_ineq, u_ineq = None, None, None\n",
    "\n",
    "    # Equality constraints: Ax = b\n",
    "    if A is not None and b is not None:\n",
    "        A_eq = A\n",
    "        l_eq = b\n",
    "        u_eq = b\n",
    "    else:\n",
    "        A_eq, l_eq, u_eq = None, None, None\n",
    "\n",
    "    # Combine constraints\n",
    "    A_combined = np.vstack([A_ineq, A_eq]) if A_ineq is not None else sparse.csc_matrix(A_eq)\n",
    "    l_combined = np.hstack([l_ineq, l_eq]) if l_ineq is not None else l_eq\n",
    "    u_combined = np.hstack([u_ineq, u_eq]) if u_ineq is not None else u_eq\n",
    "    return A_combined, l_combined, u_combined\n",
    "\n"
   ]
  },
  {
   "cell_type": "code",
   "execution_count": 239,
   "metadata": {},
   "outputs": [],
   "source": [
    "def ADAL(A1:np.ndarray, A2:np.ndarray ,b1:np.ndarray ,b2: np.ndarray,q:np.ndarray,P:np.ndarray,x0, y0, z0, eta, rho, alpha):\n",
    "    x = x0\n",
    "    y = y0\n",
    "    z = z0\n",
    "    A_osqp,l_osqp,u_osqp = standard_constraints(A2,-b2,A1,-b1)\n",
    "    def Pc(z):\n",
    "        for i in range(len(z)):\n",
    "            if l_osqp[i] <= z[i] and z[i] <= u_osqp[i]:\n",
    "                pass\n",
    "            else:\n",
    "                z[i] = u_osqp[i]\n",
    "        return z\n",
    "    def solve_linear_sys():\n",
    "        zuoshang = P+eta*np.eye(P.shape[0])\n",
    "        zuoxia = A_osqp\n",
    "        youshang = A_osqp.T\n",
    "        youxia = -1/rho*np.eye(A_osqp.shape[0])\n",
    "        shang = np.block([zuoshang,youshang])\n",
    "        xia = np.block([zuoxia,youxia])\n",
    "        M = np.vstack([shang,xia])\n",
    "        \n",
    "        b = np.hstack([eta*x-q,z-1/rho*y])\n",
    "        xv = np.linalg.solve(M, b)\n",
    "        x_hat,v = np.split(xv,[P.shape[0]])\n",
    "        return x_hat,v\n",
    "    \n",
    "    while(True):\n",
    "        x_hat,v = solve_linear_sys()\n",
    "        z_hat = z+1/rho*(v-y)\n",
    "        x_next = alpha*x_hat + (1-alpha)*x\n",
    "        z_next = Pc(alpha*z_hat + (1-alpha)*z+1/rho*y)\n",
    "        y = y+rho*(alpha*z_hat+ (1-alpha)*z-z_next)\n",
    "        z = z_next\n",
    "        r = np.linalg.norm(x-x_next)\n",
    "        x = x_next\n",
    "        if r<1e-8:\n",
    "            return x"
   ]
  },
  {
   "cell_type": "code",
   "execution_count": 240,
   "metadata": {},
   "outputs": [
    {
     "name": "stdout",
     "output_type": "stream",
     "text": [
      "QP solution: x = array([ 0.3076548 , -0.69232615,  1.38448776])\n"
     ]
    }
   ],
   "source": [
    "from qpsolvers import solve_qp\n",
    "\n",
    "M = np.array([[1.0, 2.0, 0.0], [-8.0, 3.0, 2.0], [0.0, 1.0, 1.0]])\n",
    "P = M.T @ M  # this is a positive definite matrix\n",
    "q = np.array([3.0, 2.0, 3.0]) @ M\n",
    "G = np.array([[1.0, 2.0, 1.0], [2.0, 0.0, 1.0], [-1.0, 2.0, -1.0]])\n",
    "h = np.array([3.0, 2.0, -2.0])\n",
    "A = np.array([[1.0, 1.0, 1.0]])\n",
    "b = np.array([1.0])\n",
    "\n",
    "x = solve_qp(P, q, G, h, A, b, solver=\"osqp\")\n",
    "print(f\"QP solution: {x = }\")"
   ]
  },
  {
   "cell_type": "code",
   "execution_count": 241,
   "metadata": {},
   "outputs": [
    {
     "name": "stdout",
     "output_type": "stream",
     "text": [
      "[ 0.3076923  -0.69230778  1.38461544]\n"
     ]
    }
   ],
   "source": [
    "x = ADAL(A,G,-b,-h,q,P,np.array([1.0, 1.0, 1.0]),np.array([1.0, 1.0, 1.0,1.0]),np.array([1.0, 1.0, 1.,1.0]),1,1,1)\n",
    "print(x)"
   ]
  }
 ],
 "metadata": {
  "kernelspec": {
   "display_name": "Python 3",
   "language": "python",
   "name": "python3"
  },
  "language_info": {
   "codemirror_mode": {
    "name": "ipython",
    "version": 3
   },
   "file_extension": ".py",
   "mimetype": "text/x-python",
   "name": "python",
   "nbconvert_exporter": "python",
   "pygments_lexer": "ipython3",
   "version": "3.10.14"
  }
 },
 "nbformat": 4,
 "nbformat_minor": 2
}
